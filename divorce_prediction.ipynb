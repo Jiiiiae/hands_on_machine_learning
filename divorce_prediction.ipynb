{
 "cells": [
  {
   "cell_type": "markdown",
   "id": "742e8aab",
   "metadata": {},
   "source": [
    "# 설문조사 결과로 이혼 예측해보기 "
   ]
  },
  {
   "cell_type": "code",
   "execution_count": 2,
   "id": "2b59953a",
   "metadata": {},
   "outputs": [],
   "source": [
    "import numpy as np\n",
    "import os\n",
    "import matplotlib.pyplot as plt\n",
    "import pandas as pd "
   ]
  },
  {
   "cell_type": "code",
   "execution_count": 26,
   "id": "98ae8ffe",
   "metadata": {},
   "outputs": [],
   "source": [
    "DIVORCE_PATH = os.path.join(\"dataset\",\"divorce\")\n",
    "IMAGES_PATH = os.path.join('.','images','divorce_predict')\n",
    "os.makedirs(IMAGES_PATH, exist_ok=True)\n",
    "\n",
    "def save_fig(fig_id, tight_layout=True, fig_extension='png',\n",
    "            resolution=30):\n",
    "    path = os.path.join(IMAGES_PATH,fig_id+'.'+fig_extension)\n",
    "    print(\"그림 저장:\",fig_id)\n",
    "    if tight_layout:\n",
    "        plt.tight_layout()\n",
    "    plt.savefig(path, format=fig_extension, dpi=resolution)"
   ]
  },
  {
   "cell_type": "code",
   "execution_count": 19,
   "id": "88b48b87",
   "metadata": {},
   "outputs": [],
   "source": [
    "def load_divorce_data(divorce_path=DIVORCE_PATH):\n",
    "    csv_path = os.path.join(divorce_path, \"divorce_data.csv\")\n",
    "    return pd.read_csv(csv_path,sep=';') #dataframe형식으로 불러옴"
   ]
  },
  {
   "cell_type": "code",
   "execution_count": 50,
   "id": "4488f5aa",
   "metadata": {},
   "outputs": [],
   "source": [
    "tsv_path = os.path.join(DIVORCE_PATH, \"reference.tsv\")\n",
    "ref = pd.read_csv(tsv_path, sep='|',index_col='atribute_id')"
   ]
  },
  {
   "cell_type": "code",
   "execution_count": 55,
   "id": "eb041777",
   "metadata": {},
   "outputs": [
    {
     "data": {
      "text/html": [
       "<div>\n",
       "<style scoped>\n",
       "    .dataframe tbody tr th:only-of-type {\n",
       "        vertical-align: middle;\n",
       "    }\n",
       "\n",
       "    .dataframe tbody tr th {\n",
       "        vertical-align: top;\n",
       "    }\n",
       "\n",
       "    .dataframe thead th {\n",
       "        text-align: right;\n",
       "    }\n",
       "</style>\n",
       "<table border=\"1\" class=\"dataframe\">\n",
       "  <thead>\n",
       "    <tr style=\"text-align: right;\">\n",
       "      <th></th>\n",
       "      <th>description</th>\n",
       "    </tr>\n",
       "    <tr>\n",
       "      <th>atribute_id</th>\n",
       "      <th></th>\n",
       "    </tr>\n",
       "  </thead>\n",
       "  <tbody>\n",
       "    <tr>\n",
       "      <th>1</th>\n",
       "      <td>If one of us apologizes when our discussion de...</td>\n",
       "    </tr>\n",
       "    <tr>\n",
       "      <th>2</th>\n",
       "      <td>I know we can ignore our differences, even if ...</td>\n",
       "    </tr>\n",
       "    <tr>\n",
       "      <th>3</th>\n",
       "      <td>When we need it, we can take our discussions w...</td>\n",
       "    </tr>\n",
       "    <tr>\n",
       "      <th>4</th>\n",
       "      <td>When I discuss with my spouse, to contact him ...</td>\n",
       "    </tr>\n",
       "    <tr>\n",
       "      <th>5</th>\n",
       "      <td>The time I spent with my wife is special for us.</td>\n",
       "    </tr>\n",
       "    <tr>\n",
       "      <th>6</th>\n",
       "      <td>We don't have time at home as partners.</td>\n",
       "    </tr>\n",
       "    <tr>\n",
       "      <th>7</th>\n",
       "      <td>We are like two strangers who share the same e...</td>\n",
       "    </tr>\n",
       "    <tr>\n",
       "      <th>8</th>\n",
       "      <td>I enjoy our holidays with my wife.</td>\n",
       "    </tr>\n",
       "    <tr>\n",
       "      <th>9</th>\n",
       "      <td>I enjoy traveling with my wife.</td>\n",
       "    </tr>\n",
       "    <tr>\n",
       "      <th>10</th>\n",
       "      <td>Most of our goals are common to my spouse.</td>\n",
       "    </tr>\n",
       "    <tr>\n",
       "      <th>11</th>\n",
       "      <td>I think that one day in the future, when I loo...</td>\n",
       "    </tr>\n",
       "    <tr>\n",
       "      <th>12</th>\n",
       "      <td>My spouse and I have similar values in terms o...</td>\n",
       "    </tr>\n",
       "    <tr>\n",
       "      <th>13</th>\n",
       "      <td>My spouse and I have similar sense of entertai...</td>\n",
       "    </tr>\n",
       "    <tr>\n",
       "      <th>14</th>\n",
       "      <td>Most of our goals for people (children, friend...</td>\n",
       "    </tr>\n",
       "    <tr>\n",
       "      <th>15</th>\n",
       "      <td>Our dreams with my spouse are similar and harm...</td>\n",
       "    </tr>\n",
       "    <tr>\n",
       "      <th>16</th>\n",
       "      <td>We're compatible with my spouse about what lov...</td>\n",
       "    </tr>\n",
       "    <tr>\n",
       "      <th>17</th>\n",
       "      <td>We share the same views about being happy in o...</td>\n",
       "    </tr>\n",
       "    <tr>\n",
       "      <th>18</th>\n",
       "      <td>My spouse and I have similar ideas about how m...</td>\n",
       "    </tr>\n",
       "    <tr>\n",
       "      <th>19</th>\n",
       "      <td>My spouse and I have similar ideas about how r...</td>\n",
       "    </tr>\n",
       "    <tr>\n",
       "      <th>20</th>\n",
       "      <td>My spouse and I have similar values in trust.</td>\n",
       "    </tr>\n",
       "    <tr>\n",
       "      <th>21</th>\n",
       "      <td>I know exactly what my wife likes.</td>\n",
       "    </tr>\n",
       "    <tr>\n",
       "      <th>22</th>\n",
       "      <td>I know how my spouse wants to be taken care of...</td>\n",
       "    </tr>\n",
       "    <tr>\n",
       "      <th>23</th>\n",
       "      <td>I know my spouse's favorite food.</td>\n",
       "    </tr>\n",
       "    <tr>\n",
       "      <th>24</th>\n",
       "      <td>I can tell you what kind of stress my spouse i...</td>\n",
       "    </tr>\n",
       "    <tr>\n",
       "      <th>25</th>\n",
       "      <td>I have knowledge of my spouse's inner world.</td>\n",
       "    </tr>\n",
       "    <tr>\n",
       "      <th>26</th>\n",
       "      <td>I know my spouse's basic anxieties.</td>\n",
       "    </tr>\n",
       "    <tr>\n",
       "      <th>27</th>\n",
       "      <td>I know what my spouse's current sources of str...</td>\n",
       "    </tr>\n",
       "    <tr>\n",
       "      <th>28</th>\n",
       "      <td>I know my spouse's hopes and wishes.</td>\n",
       "    </tr>\n",
       "    <tr>\n",
       "      <th>29</th>\n",
       "      <td>I know my spouse very well.</td>\n",
       "    </tr>\n",
       "    <tr>\n",
       "      <th>30</th>\n",
       "      <td>I know my spouse's friends and their social re...</td>\n",
       "    </tr>\n",
       "    <tr>\n",
       "      <th>31</th>\n",
       "      <td>I feel aggressive when I argue with my spouse.</td>\n",
       "    </tr>\n",
       "    <tr>\n",
       "      <th>32</th>\n",
       "      <td>When discussing with my spouse, I usually use ...</td>\n",
       "    </tr>\n",
       "    <tr>\n",
       "      <th>33</th>\n",
       "      <td>I can use negative statements about my spouse'...</td>\n",
       "    </tr>\n",
       "    <tr>\n",
       "      <th>34</th>\n",
       "      <td>I can use offensive expressions during our dis...</td>\n",
       "    </tr>\n",
       "    <tr>\n",
       "      <th>35</th>\n",
       "      <td>I can insult my spouse during our discussions.</td>\n",
       "    </tr>\n",
       "    <tr>\n",
       "      <th>36</th>\n",
       "      <td>I can be humiliating when we discussions.</td>\n",
       "    </tr>\n",
       "    <tr>\n",
       "      <th>37</th>\n",
       "      <td>My discussion with my spouse is not calm.</td>\n",
       "    </tr>\n",
       "    <tr>\n",
       "      <th>38</th>\n",
       "      <td>I hate my spouse's way of open a subject.</td>\n",
       "    </tr>\n",
       "    <tr>\n",
       "      <th>39</th>\n",
       "      <td>Our discussions often occur suddenly.</td>\n",
       "    </tr>\n",
       "    <tr>\n",
       "      <th>40</th>\n",
       "      <td>We're just starting a discussion before I know...</td>\n",
       "    </tr>\n",
       "    <tr>\n",
       "      <th>41</th>\n",
       "      <td>When I talk to my spouse about something, my c...</td>\n",
       "    </tr>\n",
       "    <tr>\n",
       "      <th>42</th>\n",
       "      <td>When I argue with my spouse, ı only go out and...</td>\n",
       "    </tr>\n",
       "    <tr>\n",
       "      <th>43</th>\n",
       "      <td>I mostly stay silent to calm the environment a...</td>\n",
       "    </tr>\n",
       "    <tr>\n",
       "      <th>44</th>\n",
       "      <td>Sometimes I think it's good for me to leave ho...</td>\n",
       "    </tr>\n",
       "    <tr>\n",
       "      <th>45</th>\n",
       "      <td>I'd rather stay silent than discuss with my sp...</td>\n",
       "    </tr>\n",
       "    <tr>\n",
       "      <th>46</th>\n",
       "      <td>Even if I'm right in the discussion, I stay si...</td>\n",
       "    </tr>\n",
       "    <tr>\n",
       "      <th>47</th>\n",
       "      <td>When I discuss with my spouse, I stay silent b...</td>\n",
       "    </tr>\n",
       "    <tr>\n",
       "      <th>48</th>\n",
       "      <td>I feel right in our discussions.</td>\n",
       "    </tr>\n",
       "    <tr>\n",
       "      <th>49</th>\n",
       "      <td>I have nothing to do with what I've been accus...</td>\n",
       "    </tr>\n",
       "    <tr>\n",
       "      <th>50</th>\n",
       "      <td>I'm not actually the one who's guilty about wh...</td>\n",
       "    </tr>\n",
       "    <tr>\n",
       "      <th>51</th>\n",
       "      <td>I'm not the one who's wrong about problems at ...</td>\n",
       "    </tr>\n",
       "    <tr>\n",
       "      <th>52</th>\n",
       "      <td>I wouldn't hesitate to tell my spouse about he...</td>\n",
       "    </tr>\n",
       "    <tr>\n",
       "      <th>53</th>\n",
       "      <td>When I discuss, I remind my spouse of her/his ...</td>\n",
       "    </tr>\n",
       "    <tr>\n",
       "      <th>54</th>\n",
       "      <td>I'm not afraid to tell my spouse about her/his...</td>\n",
       "    </tr>\n",
       "  </tbody>\n",
       "</table>\n",
       "</div>"
      ],
      "text/plain": [
       "                                                   description\n",
       "atribute_id                                                   \n",
       "1            If one of us apologizes when our discussion de...\n",
       "2            I know we can ignore our differences, even if ...\n",
       "3            When we need it, we can take our discussions w...\n",
       "4            When I discuss with my spouse, to contact him ...\n",
       "5             The time I spent with my wife is special for us.\n",
       "6                      We don't have time at home as partners.\n",
       "7            We are like two strangers who share the same e...\n",
       "8                           I enjoy our holidays with my wife.\n",
       "9                              I enjoy traveling with my wife.\n",
       "10                  Most of our goals are common to my spouse.\n",
       "11           I think that one day in the future, when I loo...\n",
       "12           My spouse and I have similar values in terms o...\n",
       "13           My spouse and I have similar sense of entertai...\n",
       "14           Most of our goals for people (children, friend...\n",
       "15           Our dreams with my spouse are similar and harm...\n",
       "16           We're compatible with my spouse about what lov...\n",
       "17           We share the same views about being happy in o...\n",
       "18           My spouse and I have similar ideas about how m...\n",
       "19           My spouse and I have similar ideas about how r...\n",
       "20               My spouse and I have similar values in trust.\n",
       "21                          I know exactly what my wife likes.\n",
       "22           I know how my spouse wants to be taken care of...\n",
       "23                           I know my spouse's favorite food.\n",
       "24           I can tell you what kind of stress my spouse i...\n",
       "25                I have knowledge of my spouse's inner world.\n",
       "26                         I know my spouse's basic anxieties.\n",
       "27           I know what my spouse's current sources of str...\n",
       "28                        I know my spouse's hopes and wishes.\n",
       "29                                 I know my spouse very well.\n",
       "30           I know my spouse's friends and their social re...\n",
       "31              I feel aggressive when I argue with my spouse.\n",
       "32           When discussing with my spouse, I usually use ...\n",
       "33           I can use negative statements about my spouse'...\n",
       "34           I can use offensive expressions during our dis...\n",
       "35              I can insult my spouse during our discussions.\n",
       "36                   I can be humiliating when we discussions.\n",
       "37                   My discussion with my spouse is not calm.\n",
       "38                   I hate my spouse's way of open a subject.\n",
       "39                       Our discussions often occur suddenly.\n",
       "40           We're just starting a discussion before I know...\n",
       "41           When I talk to my spouse about something, my c...\n",
       "42           When I argue with my spouse, ı only go out and...\n",
       "43           I mostly stay silent to calm the environment a...\n",
       "44           Sometimes I think it's good for me to leave ho...\n",
       "45           I'd rather stay silent than discuss with my sp...\n",
       "46           Even if I'm right in the discussion, I stay si...\n",
       "47           When I discuss with my spouse, I stay silent b...\n",
       "48                            I feel right in our discussions.\n",
       "49           I have nothing to do with what I've been accus...\n",
       "50           I'm not actually the one who's guilty about wh...\n",
       "51           I'm not the one who's wrong about problems at ...\n",
       "52           I wouldn't hesitate to tell my spouse about he...\n",
       "53           When I discuss, I remind my spouse of her/his ...\n",
       "54           I'm not afraid to tell my spouse about her/his..."
      ]
     },
     "execution_count": 55,
     "metadata": {},
     "output_type": "execute_result"
    }
   ],
   "source": [
    "ref"
   ]
  },
  {
   "cell_type": "code",
   "execution_count": 70,
   "id": "6c5493d5",
   "metadata": {},
   "outputs": [
    {
     "data": {
      "text/html": [
       "<div>\n",
       "<style scoped>\n",
       "    .dataframe tbody tr th:only-of-type {\n",
       "        vertical-align: middle;\n",
       "    }\n",
       "\n",
       "    .dataframe tbody tr th {\n",
       "        vertical-align: top;\n",
       "    }\n",
       "\n",
       "    .dataframe thead th {\n",
       "        text-align: right;\n",
       "    }\n",
       "</style>\n",
       "<table border=\"1\" class=\"dataframe\">\n",
       "  <thead>\n",
       "    <tr style=\"text-align: right;\">\n",
       "      <th></th>\n",
       "      <th>Q1</th>\n",
       "      <th>Q2</th>\n",
       "      <th>Q3</th>\n",
       "      <th>Q4</th>\n",
       "      <th>Q5</th>\n",
       "      <th>Q6</th>\n",
       "      <th>Q7</th>\n",
       "      <th>Q8</th>\n",
       "      <th>Q9</th>\n",
       "      <th>Q10</th>\n",
       "      <th>...</th>\n",
       "      <th>Q46</th>\n",
       "      <th>Q47</th>\n",
       "      <th>Q48</th>\n",
       "      <th>Q49</th>\n",
       "      <th>Q50</th>\n",
       "      <th>Q51</th>\n",
       "      <th>Q52</th>\n",
       "      <th>Q53</th>\n",
       "      <th>Q54</th>\n",
       "      <th>Divorce</th>\n",
       "    </tr>\n",
       "  </thead>\n",
       "  <tbody>\n",
       "    <tr>\n",
       "      <th>0</th>\n",
       "      <td>2</td>\n",
       "      <td>2</td>\n",
       "      <td>4</td>\n",
       "      <td>1</td>\n",
       "      <td>0</td>\n",
       "      <td>0</td>\n",
       "      <td>0</td>\n",
       "      <td>0</td>\n",
       "      <td>0</td>\n",
       "      <td>0</td>\n",
       "      <td>...</td>\n",
       "      <td>2</td>\n",
       "      <td>1</td>\n",
       "      <td>3</td>\n",
       "      <td>3</td>\n",
       "      <td>3</td>\n",
       "      <td>2</td>\n",
       "      <td>3</td>\n",
       "      <td>2</td>\n",
       "      <td>1</td>\n",
       "      <td>1</td>\n",
       "    </tr>\n",
       "    <tr>\n",
       "      <th>1</th>\n",
       "      <td>4</td>\n",
       "      <td>4</td>\n",
       "      <td>4</td>\n",
       "      <td>4</td>\n",
       "      <td>4</td>\n",
       "      <td>0</td>\n",
       "      <td>0</td>\n",
       "      <td>4</td>\n",
       "      <td>4</td>\n",
       "      <td>4</td>\n",
       "      <td>...</td>\n",
       "      <td>2</td>\n",
       "      <td>2</td>\n",
       "      <td>3</td>\n",
       "      <td>4</td>\n",
       "      <td>4</td>\n",
       "      <td>4</td>\n",
       "      <td>4</td>\n",
       "      <td>2</td>\n",
       "      <td>2</td>\n",
       "      <td>1</td>\n",
       "    </tr>\n",
       "    <tr>\n",
       "      <th>2</th>\n",
       "      <td>2</td>\n",
       "      <td>2</td>\n",
       "      <td>2</td>\n",
       "      <td>2</td>\n",
       "      <td>1</td>\n",
       "      <td>3</td>\n",
       "      <td>2</td>\n",
       "      <td>1</td>\n",
       "      <td>1</td>\n",
       "      <td>2</td>\n",
       "      <td>...</td>\n",
       "      <td>3</td>\n",
       "      <td>2</td>\n",
       "      <td>3</td>\n",
       "      <td>1</td>\n",
       "      <td>1</td>\n",
       "      <td>1</td>\n",
       "      <td>2</td>\n",
       "      <td>2</td>\n",
       "      <td>2</td>\n",
       "      <td>1</td>\n",
       "    </tr>\n",
       "    <tr>\n",
       "      <th>3</th>\n",
       "      <td>3</td>\n",
       "      <td>2</td>\n",
       "      <td>3</td>\n",
       "      <td>2</td>\n",
       "      <td>3</td>\n",
       "      <td>3</td>\n",
       "      <td>3</td>\n",
       "      <td>3</td>\n",
       "      <td>3</td>\n",
       "      <td>3</td>\n",
       "      <td>...</td>\n",
       "      <td>2</td>\n",
       "      <td>2</td>\n",
       "      <td>3</td>\n",
       "      <td>3</td>\n",
       "      <td>3</td>\n",
       "      <td>3</td>\n",
       "      <td>2</td>\n",
       "      <td>2</td>\n",
       "      <td>2</td>\n",
       "      <td>1</td>\n",
       "    </tr>\n",
       "    <tr>\n",
       "      <th>4</th>\n",
       "      <td>2</td>\n",
       "      <td>2</td>\n",
       "      <td>1</td>\n",
       "      <td>1</td>\n",
       "      <td>1</td>\n",
       "      <td>1</td>\n",
       "      <td>0</td>\n",
       "      <td>0</td>\n",
       "      <td>0</td>\n",
       "      <td>0</td>\n",
       "      <td>...</td>\n",
       "      <td>2</td>\n",
       "      <td>1</td>\n",
       "      <td>2</td>\n",
       "      <td>3</td>\n",
       "      <td>2</td>\n",
       "      <td>2</td>\n",
       "      <td>2</td>\n",
       "      <td>1</td>\n",
       "      <td>0</td>\n",
       "      <td>1</td>\n",
       "    </tr>\n",
       "  </tbody>\n",
       "</table>\n",
       "<p>5 rows × 55 columns</p>\n",
       "</div>"
      ],
      "text/plain": [
       "   Q1  Q2  Q3  Q4  Q5  Q6  Q7  Q8  Q9  Q10  ...  Q46  Q47  Q48  Q49  Q50  Q51  \\\n",
       "0   2   2   4   1   0   0   0   0   0    0  ...    2    1    3    3    3    2   \n",
       "1   4   4   4   4   4   0   0   4   4    4  ...    2    2    3    4    4    4   \n",
       "2   2   2   2   2   1   3   2   1   1    2  ...    3    2    3    1    1    1   \n",
       "3   3   2   3   2   3   3   3   3   3    3  ...    2    2    3    3    3    3   \n",
       "4   2   2   1   1   1   1   0   0   0    0  ...    2    1    2    3    2    2   \n",
       "\n",
       "   Q52  Q53  Q54  Divorce  \n",
       "0    3    2    1        1  \n",
       "1    4    2    2        1  \n",
       "2    2    2    2        1  \n",
       "3    2    2    2        1  \n",
       "4    2    1    0        1  \n",
       "\n",
       "[5 rows x 55 columns]"
      ]
     },
     "execution_count": 70,
     "metadata": {},
     "output_type": "execute_result"
    }
   ],
   "source": [
    "divorce = load_divorce_data()\n",
    "divorce.head()"
   ]
  },
  {
   "cell_type": "code",
   "execution_count": 57,
   "id": "8bfe4229",
   "metadata": {},
   "outputs": [
    {
     "name": "stdout",
     "output_type": "stream",
     "text": [
      "<class 'pandas.core.frame.DataFrame'>\n",
      "RangeIndex: 170 entries, 0 to 169\n",
      "Data columns (total 55 columns):\n",
      " #   Column   Non-Null Count  Dtype\n",
      "---  ------   --------------  -----\n",
      " 0   Q1       170 non-null    int64\n",
      " 1   Q2       170 non-null    int64\n",
      " 2   Q3       170 non-null    int64\n",
      " 3   Q4       170 non-null    int64\n",
      " 4   Q5       170 non-null    int64\n",
      " 5   Q6       170 non-null    int64\n",
      " 6   Q7       170 non-null    int64\n",
      " 7   Q8       170 non-null    int64\n",
      " 8   Q9       170 non-null    int64\n",
      " 9   Q10      170 non-null    int64\n",
      " 10  Q11      170 non-null    int64\n",
      " 11  Q12      170 non-null    int64\n",
      " 12  Q13      170 non-null    int64\n",
      " 13  Q14      170 non-null    int64\n",
      " 14  Q15      170 non-null    int64\n",
      " 15  Q16      170 non-null    int64\n",
      " 16  Q17      170 non-null    int64\n",
      " 17  Q18      170 non-null    int64\n",
      " 18  Q19      170 non-null    int64\n",
      " 19  Q20      170 non-null    int64\n",
      " 20  Q21      170 non-null    int64\n",
      " 21  Q22      170 non-null    int64\n",
      " 22  Q23      170 non-null    int64\n",
      " 23  Q24      170 non-null    int64\n",
      " 24  Q25      170 non-null    int64\n",
      " 25  Q26      170 non-null    int64\n",
      " 26  Q27      170 non-null    int64\n",
      " 27  Q28      170 non-null    int64\n",
      " 28  Q29      170 non-null    int64\n",
      " 29  Q30      170 non-null    int64\n",
      " 30  Q31      170 non-null    int64\n",
      " 31  Q32      170 non-null    int64\n",
      " 32  Q33      170 non-null    int64\n",
      " 33  Q34      170 non-null    int64\n",
      " 34  Q35      170 non-null    int64\n",
      " 35  Q36      170 non-null    int64\n",
      " 36  Q37      170 non-null    int64\n",
      " 37  Q38      170 non-null    int64\n",
      " 38  Q39      170 non-null    int64\n",
      " 39  Q40      170 non-null    int64\n",
      " 40  Q41      170 non-null    int64\n",
      " 41  Q42      170 non-null    int64\n",
      " 42  Q43      170 non-null    int64\n",
      " 43  Q44      170 non-null    int64\n",
      " 44  Q45      170 non-null    int64\n",
      " 45  Q46      170 non-null    int64\n",
      " 46  Q47      170 non-null    int64\n",
      " 47  Q48      170 non-null    int64\n",
      " 48  Q49      170 non-null    int64\n",
      " 49  Q50      170 non-null    int64\n",
      " 50  Q51      170 non-null    int64\n",
      " 51  Q52      170 non-null    int64\n",
      " 52  Q53      170 non-null    int64\n",
      " 53  Q54      170 non-null    int64\n",
      " 54  Divorce  170 non-null    int64\n",
      "dtypes: int64(55)\n",
      "memory usage: 73.2 KB\n"
     ]
    }
   ],
   "source": [
    "divorce.info(10)"
   ]
  },
  {
   "cell_type": "code",
   "execution_count": 28,
   "id": "f9d736fe",
   "metadata": {},
   "outputs": [
    {
     "name": "stdout",
     "output_type": "stream",
     "text": [
      "그림 저장: attribute_hisogram_plots\n"
     ]
    },
    {
     "data": {
      "image/png": "[encoded data removed]",
      "text/plain": [
       "<Figure size 1440x1080 with 56 Axes>"
      ]
     },
     "metadata": {
      "needs_background": "light"
     },
     "output_type": "display_data"
    }
   ],
   "source": [
    "divorce.hist(bins=5, figsize=(20,15))\n",
    "save_fig(\"attribute_hisogram_plots\")"
   ]
  },
  {
   "cell_type": "code",
   "execution_count": 29,
   "id": "5b442fce",
   "metadata": {},
   "outputs": [],
   "source": [
    "from sklearn.model_selection import train_test_split\n",
    "\n",
    "train_set, test_set = train_test_split(divorce, test_size=0.2,\n",
    "                                      random_state=1021)\n",
    "\n",
    "divorce = train_set.copy()"
   ]
  },
  {
   "cell_type": "code",
   "execution_count": 30,
   "id": "1b6b5995",
   "metadata": {},
   "outputs": [],
   "source": [
    "corr_matrix = divorce.corr()"
   ]
  },
  {
   "cell_type": "code",
   "execution_count": 31,
   "id": "bb1235d6",
   "metadata": {},
   "outputs": [
    {
     "data": {
      "text/plain": [
       "Divorce    1.000000\n",
       "Q19        0.940534\n",
       "Q17        0.939046\n",
       "Q18        0.935132\n",
       "Q40        0.932041\n",
       "Q11        0.915896\n",
       "Q9         0.909064\n",
       "Q20        0.905127\n",
       "Q41        0.902592\n",
       "Q39        0.901639\n",
       "Q15        0.900853\n",
       "Q29        0.897435\n",
       "Q38        0.892031\n",
       "Q5         0.886986\n",
       "Q30        0.884449\n",
       "Q36        0.882186\n",
       "Q16        0.881583\n",
       "Q26        0.880256\n",
       "Q8         0.875971\n",
       "Q12        0.875725\n",
       "Q27        0.867383\n",
       "Q1         0.867054\n",
       "Q21        0.864371\n",
       "Q35        0.859831\n",
       "Q4         0.859503\n",
       "Q14        0.859209\n",
       "Q33        0.859077\n",
       "Q25        0.851964\n",
       "Q28        0.851032\n",
       "Q37        0.847289\n",
       "Q24        0.845135\n",
       "Q10        0.844618\n",
       "Q13        0.842053\n",
       "Q44        0.836484\n",
       "Q34        0.832771\n",
       "Q22        0.827201\n",
       "Q23        0.827021\n",
       "Q2         0.811686\n",
       "Q32        0.810640\n",
       "Q54        0.794599\n",
       "Q3         0.786995\n",
       "Q31        0.775231\n",
       "Q42        0.748218\n",
       "Q49        0.741410\n",
       "Q50        0.719062\n",
       "Q53        0.693381\n",
       "Q52        0.645307\n",
       "Q51        0.640928\n",
       "Q47        0.633695\n",
       "Q48        0.605675\n",
       "Q43        0.565308\n",
       "Q7         0.545691\n",
       "Q45        0.541542\n",
       "Q46        0.430326\n",
       "Q6         0.413186\n",
       "Name: Divorce, dtype: float64"
      ]
     },
     "execution_count": 31,
     "metadata": {},
     "output_type": "execute_result"
    }
   ],
   "source": [
    "corr_matrix['Divorce'].sort_values(ascending=False)"
   ]
  },
  {
   "cell_type": "code",
   "execution_count": 54,
   "id": "57f74a73",
   "metadata": {
    "scrolled": true
   },
   "outputs": [
    {
     "name": "stdout",
     "output_type": "stream",
     "text": [
      "그림 저장: scatter_matrix_plot\n"
     ]
    },
    {
     "data": {
      "image/png": "[encoded data removed]",
      "text/plain": [
       "<Figure size 720x360 with 25 Axes>"
      ]
     },
     "metadata": {
      "needs_background": "light"
     },
     "output_type": "display_data"
    }
   ],
   "source": [
    "from pandas.plotting import scatter_matrix\n",
    "\n",
    "attributes = ['Q19','Q6','Q3','Q33','Divorce']\n",
    "scatter_matrix(divorce[attributes], figsize=(10,5))\n",
    "save_fig(\"scatter_matrix_plot\")"
   ]
  },
  {
   "cell_type": "code",
   "execution_count": 74,
   "id": "2674e39c",
   "metadata": {},
   "outputs": [],
   "source": [
    "divorce_set = divorce.drop('Divorce',axis=1)\n",
    "divorce_label = divorce.loc[:,'Divorce']"
   ]
  },
  {
   "cell_type": "code",
   "execution_count": 76,
   "id": "99e8dd40",
   "metadata": {},
   "outputs": [
    {
     "data": {
      "text/plain": [
       "LinearRegression()"
      ]
     },
     "execution_count": 76,
     "metadata": {},
     "output_type": "execute_result"
    }
   ],
   "source": [
    "from sklearn.linear_model import LinearRegression\n",
    "\n",
    "lin_reg = LinearRegression()\n",
    "lin_reg.fit(divorce_set,divorce_label)"
   ]
  },
  {
   "cell_type": "code",
   "execution_count": 78,
   "id": "1d348063",
   "metadata": {},
   "outputs": [
    {
     "name": "stdout",
     "output_type": "stream",
     "text": [
      "Predictions: [ 6.03283176e-01  9.82610364e-01  1.03847403e+00  1.10052417e+00\n",
      "  6.82774059e-01  7.25349452e-01  9.58227644e-01  9.53355343e-01\n",
      "  9.35704474e-01  7.51058034e-01  1.08672057e+00  1.08672057e+00\n",
      "  1.05626308e+00  1.05626308e+00  1.05615723e+00  1.05801153e+00\n",
      "  1.05801153e+00  1.00516795e+00  1.05179828e+00  1.00516795e+00\n",
      "  1.04523613e+00  1.04523613e+00  9.82336827e-01  1.03328847e+00\n",
      "  1.03246073e+00  1.03328847e+00  1.03071560e+00  1.02240500e+00\n",
      "  1.03586464e+00  1.03503691e+00  1.03586464e+00  9.82193334e-01\n",
      "  9.73882737e-01  1.01667058e+00  9.83021065e-01  1.02308924e+00\n",
      "  1.03863020e+00  1.01373551e+00  1.01373551e+00  9.63683515e-01\n",
      "  9.99430386e-01  1.01206229e+00  9.79638873e-01  1.01289002e+00\n",
      "  1.01206229e+00  1.00457942e+00  1.01289002e+00  1.00457942e+00\n",
      "  1.01206229e+00  1.01289002e+00  1.01206229e+00  1.00200656e+00\n",
      "  9.45173696e-01  9.66863476e-01  9.42600832e-01  9.60301322e-01\n",
      "  9.08285479e-01  9.08285479e-01  9.41536627e-01  9.89915402e-01\n",
      "  9.89915402e-01  9.81604805e-01  9.89915402e-01  9.89915402e-01\n",
      "  9.03820679e-01  9.31337405e-01  9.23026808e-01  9.22199077e-01\n",
      "  9.20453945e-01  9.80326851e-01  9.46465031e-01  9.76047457e-01\n",
      "  8.75111638e-01  9.55586460e-01  9.31769355e-01  9.72087039e-01\n",
      "  1.07448511e+00  1.16714583e+00  1.03771990e+00  1.03057771e+00\n",
      "  9.58766177e-01  1.22754371e+00  9.95078907e-01  7.94011426e-01\n",
      " -3.42740532e-02 -1.09110002e-01  3.68758524e-02 -1.29682096e-01\n",
      " -4.19854919e-02 -1.33317004e-02  4.02252809e-03 -1.12412673e-02\n",
      " -4.36963208e-03 -5.66736210e-02 -3.98138654e-02 -1.74219585e-01\n",
      " -8.31846592e-02 -1.47444498e-02  5.63289769e-02  5.04276410e-02\n",
      "  1.20260111e-01  5.42348479e-02 -5.39628442e-02  4.85173248e-02\n",
      " -2.24268576e-02 -1.82934505e-02 -7.58169075e-03 -1.41522256e-02\n",
      "  1.81410486e-02  1.39090211e-03  6.89045242e-02  8.51245129e-02\n",
      " -1.14977698e-03  1.32430505e-01  4.33646923e-02  4.70772766e-02\n",
      "  1.02067307e-01  1.20110575e-02 -3.65156877e-02 -3.83167204e-02\n",
      "  2.37597165e-03 -4.46771651e-02  5.44796776e-03  1.03385989e-01\n",
      " -2.94923186e-01  4.02991781e-02  4.02991781e-02  4.36203870e-02\n",
      "  2.59051955e-02 -1.19676968e-04  2.99424012e-02  1.72095685e-01\n",
      "  9.19754045e-02  3.53885791e-03  4.05061231e-03  8.81382569e-02\n",
      " -8.80566400e-02  4.69205401e-02  4.69205401e-02 -1.08718223e-01\n",
      "  8.19770146e-02  2.78641695e-02  6.68657421e-02  7.63586310e-02\n",
      "  2.67661368e-02 -1.41816194e-01  9.37618753e-02 -3.51689354e-02\n",
      " -1.21542139e-01  3.80629807e-02  1.86805045e-02  2.88887444e-02\n",
      "  9.15564417e-02  2.45046181e-01  1.15547764e-01  8.64837233e-02\n",
      " -4.68405074e-02  3.30527859e-02  1.09863184e-01  5.78685540e-02\n",
      " -9.26055930e-04  4.41853455e-02  2.08847927e-02  8.09739802e-03\n",
      "  1.06020278e-01 -1.37237359e-01  5.47372405e-02  7.50406760e-02\n",
      "  2.08819602e-01 -1.24514762e-01]\n",
      "Labels: 0      1\n",
      "1      1\n",
      "2      1\n",
      "3      1\n",
      "4      1\n",
      "      ..\n",
      "165    0\n",
      "166    0\n",
      "167    0\n",
      "168    0\n",
      "169    0\n",
      "Name: Divorce, Length: 170, dtype: int64\n"
     ]
    }
   ],
   "source": [
    "print(\"Predictions:\",lin_reg.predict(divorce_set))\n",
    "print(\"Labels:\",divorce_label)"
   ]
  },
  {
   "cell_type": "code",
   "execution_count": 79,
   "id": "6d558d43",
   "metadata": {},
   "outputs": [
    {
     "data": {
      "text/plain": [
       "0.0872101760125106"
      ]
     },
     "execution_count": 79,
     "metadata": {},
     "output_type": "execute_result"
    }
   ],
   "source": [
    "from sklearn.metrics import mean_squared_error\n",
    "\n",
    "divorce_predictions = lin_reg.predict(divorce_set)\n",
    "lin_mse = mean_squared_error(divorce_label, divorce_predictions)\n",
    "lin_rmse = np.sqrt(lin_mse)\n",
    "lin_rmse"
   ]
  },
  {
   "cell_type": "code",
   "execution_count": 80,
   "id": "3e69d938",
   "metadata": {},
   "outputs": [],
   "source": [
    "from sklearn.model_selection import cross_val_score\n",
    "\n",
    "scores = cross_val_score(lin_reg, divorce_set, divorce_label,\n",
    "                        scoring='neg_mean_squared_error',cv=10)\n",
    "lin_rmse_scores = np.sqrt(-scores)"
   ]
  },
  {
   "cell_type": "code",
   "execution_count": 81,
   "id": "7db1f103",
   "metadata": {},
   "outputs": [
    {
     "name": "stdout",
     "output_type": "stream",
     "text": [
      "mean: 0.17234924694473747\n",
      "SD: 0.11856859665821337\n"
     ]
    }
   ],
   "source": [
    "print(\"mean:\",lin_rmse_scores.mean())\n",
    "print(\"SD:\",lin_rmse_scores.std())"
   ]
  },
  {
   "cell_type": "code",
   "execution_count": 83,
   "id": "8a37ed2b",
   "metadata": {},
   "outputs": [
    {
     "data": {
      "text/plain": [
       "RandomForestRegressor(n_estimators=10, random_state=42)"
      ]
     },
     "execution_count": 83,
     "metadata": {},
     "output_type": "execute_result"
    }
   ],
   "source": [
    "from sklearn.ensemble import RandomForestRegressor\n",
    "\n",
    "forest_reg = RandomForestRegressor(n_estimators=10, random_state=42)\n",
    "forest_reg.fit(divorce_set,divorce_label)"
   ]
  },
  {
   "cell_type": "code",
   "execution_count": 84,
   "id": "979f0653",
   "metadata": {},
   "outputs": [
    {
     "data": {
      "text/plain": [
       "0.06324555320336758"
      ]
     },
     "execution_count": 84,
     "metadata": {},
     "output_type": "execute_result"
    }
   ],
   "source": [
    "divorce_predictions = forest_reg.predict(divorce_set)\n",
    "forest_mse = mean_squared_error(divorce_label, divorce_predictions)\n",
    "forest_rmse = np.sqrt(forest_mse)\n",
    "forest_rmse"
   ]
  },
  {
   "cell_type": "code",
   "execution_count": 85,
   "id": "c132c915",
   "metadata": {},
   "outputs": [],
   "source": [
    "forest_scores = cross_val_score(forest_reg, divorce_set, divorce_label,\n",
    "                               scoring=\"neg_mean_squared_error\",cv=10)\n",
    "forest_rmse_scores = np.sqrt(-forest_scores)"
   ]
  },
  {
   "cell_type": "code",
   "execution_count": 87,
   "id": "18cdc605",
   "metadata": {},
   "outputs": [
    {
     "name": "stdout",
     "output_type": "stream",
     "text": [
      "Mean: 0.09342991442799661\n",
      "SD: 0.1162159421405871\n"
     ]
    }
   ],
   "source": [
    "print(\"Mean:\",forest_rmse_scores.mean())\n",
    "print(\"SD:\",forest_rmse_scores.std())"
   ]
  },
  {
   "cell_type": "code",
   "execution_count": 94,
   "id": "bf0974cb",
   "metadata": {},
   "outputs": [
    {
     "data": {
      "text/plain": [
       "RandomizedSearchCV(cv=20, estimator=RandomForestRegressor(random_state=1021),\n",
       "                   param_distributions={'max_features': <scipy.stats._distn_infrastructure.rv_frozen object at 0x2ac44f490>,\n",
       "                                        'n_estimators': <scipy.stats._distn_infrastructure.rv_frozen object at 0x2ac452610>},\n",
       "                   random_state=1021, scoring='neg_mean_squared_error')"
      ]
     },
     "execution_count": 94,
     "metadata": {},
     "output_type": "execute_result"
    }
   ],
   "source": [
    "from sklearn.model_selection import RandomizedSearchCV\n",
    "from scipy.stats import randint\n",
    "\n",
    "params_distribe={\n",
    "    'n_estimators':randint(1,200),\n",
    "    'max_features':randint(1,55)\n",
    "}\n",
    "\n",
    "forest_reg = RandomForestRegressor(random_state=1021)\n",
    "rnd_search = RandomizedSearchCV(forest_reg, param_distributions=\n",
    "                                params_distribe, n_iter=10,cv=20,\n",
    "                                scoring=\"neg_mean_squared_error\",\n",
    "                                random_state=1021)\n",
    "rnd_search.fit(divorce_set,divorce_label)"
   ]
  },
  {
   "cell_type": "code",
   "execution_count": 97,
   "id": "6151175a",
   "metadata": {},
   "outputs": [
    {
     "name": "stdout",
     "output_type": "stream",
     "text": [
      "0.13765000721866022 {'max_features': 18, 'n_estimators': 66}\n",
      "0.14729451210670935 {'max_features': 34, 'n_estimators': 162}\n",
      "0.13936162019883644 {'max_features': 8, 'n_estimators': 153}\n",
      "0.13812555565301224 {'max_features': 6, 'n_estimators': 118}\n",
      "0.1414256022893058 {'max_features': 14, 'n_estimators': 198}\n",
      "0.15041833341593241 {'max_features': 46, 'n_estimators': 73}\n",
      "0.1395871831870264 {'max_features': 8, 'n_estimators': 148}\n",
      "0.14585235588307072 {'max_features': 35, 'n_estimators': 117}\n",
      "0.14261347316998976 {'max_features': 20, 'n_estimators': 197}\n",
      "0.14191752643664501 {'max_features': 7, 'n_estimators': 64}\n"
     ]
    }
   ],
   "source": [
    "cvres = rnd_search.cv_results_\n",
    "for mean_score, params in zip(cvres[\"mean_test_score\"],cvres['params']):\n",
    "    print(np.sqrt(-mean_score),params)"
   ]
  },
  {
   "cell_type": "code",
   "execution_count": 101,
   "id": "19748eae",
   "metadata": {},
   "outputs": [
    {
     "data": {
      "text/plain": [
       "array([1.37780684e-03, 7.61651017e-04, 1.11403967e-03, 1.34423527e-02,\n",
       "       6.81790523e-04, 0.00000000e+00, 0.00000000e+00, 0.00000000e+00,\n",
       "       7.10812986e-02, 3.04204173e-04, 1.28860436e-01, 2.85244471e-04,\n",
       "       5.74054498e-04, 1.62916822e-02, 1.55814561e-02, 1.55040592e-02,\n",
       "       8.93034662e-02, 1.59630345e-01, 2.02870126e-01, 6.11921411e-02,\n",
       "       0.00000000e+00, 0.00000000e+00, 0.00000000e+00, 7.01867499e-04,\n",
       "       1.16267618e-03, 8.00770915e-02, 4.29292929e-04, 3.39269672e-03,\n",
       "       3.60044391e-04, 2.41718992e-04, 2.38198324e-04, 0.00000000e+00,\n",
       "       6.84459390e-04, 0.00000000e+00, 3.12115757e-04, 1.58417271e-02,\n",
       "       3.58721270e-04, 3.57297486e-04, 3.49722466e-03, 1.05494192e-01,\n",
       "       9.14278358e-04, 1.04748790e-03, 0.00000000e+00, 2.02184240e-03,\n",
       "       0.00000000e+00, 5.39538663e-04, 7.60809954e-04, 0.00000000e+00,\n",
       "       5.74634789e-04, 1.78277795e-04, 0.00000000e+00, 9.15791700e-04,\n",
       "       1.04186010e-03, 0.00000000e+00])"
      ]
     },
     "execution_count": 101,
     "metadata": {},
     "output_type": "execute_result"
    }
   ],
   "source": [
    "feature_importances = rnd_search.best_estimator_.feature_importances_\n",
    "feature_importances"
   ]
  },
  {
   "cell_type": "code",
   "execution_count": 105,
   "id": "50abf5c3",
   "metadata": {},
   "outputs": [
    {
     "data": {
      "text/plain": [
       "[(0.20287012564626347, 'Q19'),\n",
       " (0.15963034483203523, 'Q18'),\n",
       " (0.12886043645127082, 'Q11'),\n",
       " (0.10549419197617639, 'Q40'),\n",
       " (0.08930346620493669, 'Q17'),\n",
       " (0.08007709149649128, 'Q26'),\n",
       " (0.071081298588281, 'Q9'),\n",
       " (0.061192141067602034, 'Q20'),\n",
       " (0.016291682228146344, 'Q14'),\n",
       " (0.015841727054803356, 'Q36'),\n",
       " (0.015581456059502691, 'Q15'),\n",
       " (0.015504059234041988, 'Q16'),\n",
       " (0.013442352704461483, 'Q4'),\n",
       " (0.0034972246629474788, 'Q39'),\n",
       " (0.003392696723344954, 'Q28'),\n",
       " (0.002021842397615989, 'Q44'),\n",
       " (0.0013778068379479299, 'Q1'),\n",
       " (0.0011626761846448303, 'Q25'),\n",
       " (0.0011140396697168911, 'Q3'),\n",
       " (0.0010474879043276502, 'Q42'),\n",
       " (0.0010418600962365028, 'Q53'),\n",
       " (0.0009157917004861241, 'Q52'),\n",
       " (0.0009142783578096418, 'Q41'),\n",
       " (0.0007616510172974595, 'Q2'),\n",
       " (0.0007608099536054764, 'Q47'),\n",
       " (0.0007018674991799293, 'Q24'),\n",
       " (0.0006844593898165328, 'Q33'),\n",
       " (0.0006817905229734363, 'Q5'),\n",
       " (0.0005746347893010243, 'Q49'),\n",
       " (0.000574054498473103, 'Q13'),\n",
       " (0.0005395386627058182, 'Q46'),\n",
       " (0.0004292929292929293, 'Q27'),\n",
       " (0.0003600443913555459, 'Q29'),\n",
       " (0.00035872126962552346, 'Q37'),\n",
       " (0.0003572974858867493, 'Q38'),\n",
       " (0.00031211575665252445, 'Q35'),\n",
       " (0.0003042041732517923, 'Q10'),\n",
       " (0.00028524447129098295, 'Q12'),\n",
       " (0.00024171899171899168, 'Q30'),\n",
       " (0.00023819832392449957, 'Q31'),\n",
       " (0.0001782777945568643, 'Q50'),\n",
       " (0.0, 'Q8'),\n",
       " (0.0, 'Q7'),\n",
       " (0.0, 'Q6'),\n",
       " (0.0, 'Q54'),\n",
       " (0.0, 'Q51'),\n",
       " (0.0, 'Q48'),\n",
       " (0.0, 'Q45'),\n",
       " (0.0, 'Q43'),\n",
       " (0.0, 'Q34'),\n",
       " (0.0, 'Q32'),\n",
       " (0.0, 'Q23'),\n",
       " (0.0, 'Q22'),\n",
       " (0.0, 'Q21')]"
      ]
     },
     "execution_count": 105,
     "metadata": {},
     "output_type": "execute_result"
    }
   ],
   "source": [
    "attributes = divorce_set.keys()\n",
    "sorted(zip(feature_importances, attributes),reverse=True)"
   ]
  },
  {
   "cell_type": "code",
   "execution_count": 109,
   "id": "0d0fb48d",
   "metadata": {},
   "outputs": [
    {
     "data": {
      "text/plain": [
       "0.07381648707695176"
      ]
     },
     "execution_count": 109,
     "metadata": {},
     "output_type": "execute_result"
    }
   ],
   "source": [
    "final_model = rnd_search.best_estimator_\n",
    "\n",
    "X_test = test_set.drop('Divorce',axis=1)\n",
    "y_test = test_set.loc[:,'Divorce'].copy()\n",
    "\n",
    "final_predictions = final_model.predict(X_test)\n",
    "\n",
    "final_mse = mean_squared_error(y_test, final_predictions)\n",
    "final_rmse = np.sqrt(final_mse)\n",
    "\n",
    "final_rmse"
   ]
  },
  {
   "cell_type": "code",
   "execution_count": 118,
   "id": "1244be64",
   "metadata": {},
   "outputs": [
    {
     "data": {
      "text/plain": [
       "[(0, 0.0),\n",
       " (0, 0.0),\n",
       " (0, 0.0),\n",
       " (0, 0.0),\n",
       " (0, 0.0),\n",
       " (0, 0.0),\n",
       " (0, 0.0),\n",
       " (0, 0.0),\n",
       " (0, 0.0),\n",
       " (0, 0.0),\n",
       " (0, 0.0),\n",
       " (0, 0.0),\n",
       " (0, 0.0),\n",
       " (0, 0.0),\n",
       " (0, 0.0),\n",
       " (0, 0.0),\n",
       " (0, 0.030303030303030304),\n",
       " (0, 0.045454545454545456),\n",
       " (0, 0.045454545454545456),\n",
       " (0, 0.24242424242424243),\n",
       " (1, 0.6515151515151515),\n",
       " (1, 1.0),\n",
       " (1, 1.0),\n",
       " (1, 1.0),\n",
       " (1, 1.0),\n",
       " (1, 1.0),\n",
       " (1, 1.0),\n",
       " (1, 1.0),\n",
       " (1, 1.0),\n",
       " (1, 1.0),\n",
       " (1, 1.0),\n",
       " (1, 1.0),\n",
       " (1, 1.0),\n",
       " (1, 1.0)]"
      ]
     },
     "execution_count": 118,
     "metadata": {},
     "output_type": "execute_result"
    }
   ],
   "source": [
    "sorted(zip(y_test, final_predictions)) #sorted:새로운 리스트로 반환"
   ]
  }
 ],
 "metadata": {
  "kernelspec": {
   "display_name": "tf24",
   "language": "python",
   "name": "tf24"
  },
  "language_info": {
   "codemirror_mode": {
    "name": "ipython",
    "version": 3
   },
   "file_extension": ".py",
   "mimetype": "text/x-python",
   "name": "python",
   "nbconvert_exporter": "python",
   "pygments_lexer": "ipython3",
   "version": "3.8.6"
  }
 },
 "nbformat": 4,
 "nbformat_minor": 5
}

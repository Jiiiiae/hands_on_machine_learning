{
 "cells": [
  {
   "cell_type": "code",
   "execution_count": 2,
   "id": "5c78aa61-9b6e-48a7-a37b-ed0b5909343d",
   "metadata": {},
   "outputs": [
    {
     "name": "stdout",
     "output_type": "stream",
     "text": [
      "WARNING:tensorflow:Eager mode uses the CPU. Switching to the CPU.\n"
     ]
    }
   ],
   "source": [
    "import sys\n",
    "assert sys.version_info >= (3,5)\n",
    "\n",
    "import sklearn\n",
    "assert sklearn.__version__ >= \"0.20\"\n",
    "\n",
    "import tensorflow as tf\n",
    "from tensorflow import keras\n",
    "assert tf.__version__ >= \"2.0\"\n",
    "\n",
    "from tensorflow.python.compiler.mlcompute import mlcompute\n",
    "mlcompute.set_mlc_device(device_name='gpu') # Available options are 'cpu', 'gpu', and ‘any'.\n",
    "\n",
    "import numpy as np\n",
    "import os\n",
    "\n",
    "np.random.seed(211122)\n",
    "tf.random.set_seed(211122)\n",
    "\n",
    "%matplotlib inline\n",
    "import matplotlib as mpl\n",
    "import matplotlib.pyplot as plt\n",
    "mpl.rc('axes', labelsize=14)\n",
    "mpl.rc('xtick', labelsize=12)\n",
    "mpl.rc('ytick', labelsize=12)\n",
    "\n",
    "PROJECT_ROOT_DIR = '.'\n",
    "CHAPTER_ID = \"deep\"\n",
    "IMAGES_PATH = os.path.join(PROJECT_ROOT_DIR, \"images\", CHAPTER_ID)\n",
    "os.makedirs(IMAGES_PATH, exist_ok=True)\n",
    "\n",
    "def save_fig(fig_id, tight_layout=True, fig_extension='png',resolution=300):\n",
    "    path = os.path.join(IMAGES_PATH, fig_id + \".\" + fig_extension)\n",
    "    print(\"Saving figure\",fig_id)\n",
    "    if tight_layout:\n",
    "        plt.tight_layout()\n",
    "    plt.savefig(path, format=fig_extension, dpi=resolution)"
   ]
  },
  {
   "cell_type": "markdown",
   "id": "28dcb2d5-3830-4fe0-ae0a-ec54e8e2e55e",
   "metadata": {},
   "source": [
    "# 텐서와 연산 "
   ]
  },
  {
   "cell_type": "markdown",
   "id": "5d966758-dd15-45d6-b083-60d2a351fb13",
   "metadata": {},
   "source": [
    "## 텐서"
   ]
  },
  {
   "cell_type": "code",
   "execution_count": 4,
   "id": "61d2cd9d-bccb-4aa0-a82d-28ab1878ea43",
   "metadata": {},
   "outputs": [
    {
     "data": {
      "text/plain": [
       "<tf.Tensor: shape=(2, 3), dtype=float32, numpy=\n",
       "array([[1., 2., 3.],\n",
       "       [4., 5., 6.]], dtype=float32)>"
      ]
     },
     "execution_count": 4,
     "metadata": {},
     "output_type": "execute_result"
    }
   ],
   "source": [
    "tf.constant([[1.,2.,3.],[4.,5.,6.]]) #행렬"
   ]
  },
  {
   "cell_type": "code",
   "execution_count": 5,
   "id": "72f90b20-c7aa-4fb0-8907-b60fef50ebda",
   "metadata": {},
   "outputs": [
    {
     "data": {
      "text/plain": [
       "<tf.Tensor: shape=(), dtype=int32, numpy=42>"
      ]
     },
     "execution_count": 5,
     "metadata": {},
     "output_type": "execute_result"
    }
   ],
   "source": [
    "tf.constant(42) #스칼라"
   ]
  },
  {
   "cell_type": "code",
   "execution_count": 6,
   "id": "ce690c06-3e8b-4da6-976e-7724ec992849",
   "metadata": {},
   "outputs": [
    {
     "data": {
      "text/plain": [
       "<tf.Tensor: shape=(2, 3), dtype=float32, numpy=\n",
       "array([[1., 2., 3.],\n",
       "       [4., 5., 6.]], dtype=float32)>"
      ]
     },
     "execution_count": 6,
     "metadata": {},
     "output_type": "execute_result"
    }
   ],
   "source": [
    "t =tf.constant([[1.,2.,3.],[4.,5.,6.]]) \n",
    "t"
   ]
  },
  {
   "cell_type": "code",
   "execution_count": 7,
   "id": "8f242938-e933-403a-b31d-0fcf5708e6a8",
   "metadata": {},
   "outputs": [
    {
     "data": {
      "text/plain": [
       "TensorShape([2, 3])"
      ]
     },
     "execution_count": 7,
     "metadata": {},
     "output_type": "execute_result"
    }
   ],
   "source": [
    "t.shape"
   ]
  },
  {
   "cell_type": "code",
   "execution_count": 8,
   "id": "c6fb629c-6863-4b01-9875-f1df0c42e164",
   "metadata": {},
   "outputs": [
    {
     "data": {
      "text/plain": [
       "tf.float32"
      ]
     },
     "execution_count": 8,
     "metadata": {},
     "output_type": "execute_result"
    }
   ],
   "source": [
    "t.dtype"
   ]
  },
  {
   "cell_type": "markdown",
   "id": "e3d05bce-3952-4eac-a588-d47b3c46664a",
   "metadata": {},
   "source": [
    "## 인덱싱 "
   ]
  },
  {
   "cell_type": "code",
   "execution_count": 9,
   "id": "1c652386-fa2c-402e-a922-cc439ee7693f",
   "metadata": {},
   "outputs": [
    {
     "data": {
      "text/plain": [
       "<tf.Tensor: shape=(2, 2), dtype=float32, numpy=\n",
       "array([[2., 3.],\n",
       "       [5., 6.]], dtype=float32)>"
      ]
     },
     "execution_count": 9,
     "metadata": {},
     "output_type": "execute_result"
    }
   ],
   "source": [
    "t[:,1:]"
   ]
  },
  {
   "cell_type": "code",
   "execution_count": 14,
   "id": "45851c39-714a-47d8-b2de-42767b671750",
   "metadata": {},
   "outputs": [
    {
     "data": {
      "text/plain": [
       "<tf.Tensor: shape=(2,), dtype=float32, numpy=array([2., 5.], dtype=float32)>"
      ]
     },
     "execution_count": 14,
     "metadata": {},
     "output_type": "execute_result"
    }
   ],
   "source": [
    "t[...,1]"
   ]
  },
  {
   "cell_type": "code",
   "execution_count": 19,
   "id": "f5e1dffb-116f-4990-8401-94139963a33c",
   "metadata": {},
   "outputs": [
    {
     "data": {
      "text/plain": [
       "<tf.Tensor: shape=(2, 1), dtype=float32, numpy=\n",
       "array([[2.],\n",
       "       [5.]], dtype=float32)>"
      ]
     },
     "execution_count": 19,
     "metadata": {},
     "output_type": "execute_result"
    }
   ],
   "source": [
    "t[...,1,tf.newaxis]"
   ]
  },
  {
   "cell_type": "markdown",
   "id": "b9a55c9b-eb88-447c-b924-76c32be43a66",
   "metadata": {},
   "source": [
    "## 연산 "
   ]
  },
  {
   "cell_type": "code",
   "execution_count": 20,
   "id": "9010d417-7688-4cd6-b5c3-d39f79bc5715",
   "metadata": {},
   "outputs": [
    {
     "data": {
      "text/plain": [
       "<tf.Tensor: shape=(2, 3), dtype=float32, numpy=\n",
       "array([[11., 12., 13.],\n",
       "       [14., 15., 16.]], dtype=float32)>"
      ]
     },
     "execution_count": 20,
     "metadata": {},
     "output_type": "execute_result"
    }
   ],
   "source": [
    "t + 10"
   ]
  },
  {
   "cell_type": "code",
   "execution_count": 21,
   "id": "5c936a0d-98bf-4402-b9d3-824582f8f44d",
   "metadata": {},
   "outputs": [
    {
     "data": {
      "text/plain": [
       "<tf.Tensor: shape=(2, 3), dtype=float32, numpy=\n",
       "array([[ 1.,  4.,  9.],\n",
       "       [16., 25., 36.]], dtype=float32)>"
      ]
     },
     "execution_count": 21,
     "metadata": {},
     "output_type": "execute_result"
    }
   ],
   "source": [
    "tf.square(t)"
   ]
  },
  {
   "cell_type": "code",
   "execution_count": 23,
   "id": "a87b40f9-a15d-4bc7-95ea-98869ab2afaf",
   "metadata": {},
   "outputs": [
    {
     "name": "stderr",
     "output_type": "stream",
     "text": [
      "2021-11-22 15:57:24.723159: I tensorflow/compiler/tf2mlcompute/utils/mlc_utils.cc:175] Eager mode uses the CPU. Switching to the CPU.\n"
     ]
    },
    {
     "data": {
      "text/plain": [
       "<tf.Tensor: shape=(2, 2), dtype=float32, numpy=\n",
       "array([[14., 32.],\n",
       "       [32., 77.]], dtype=float32)>"
      ]
     },
     "execution_count": 23,
     "metadata": {},
     "output_type": "execute_result"
    }
   ],
   "source": [
    "t @ tf.transpose(t) # @ : 행렬곱셈"
   ]
  },
  {
   "cell_type": "code",
   "execution_count": 27,
   "id": "8a1e8044-34f1-45d9-a9e4-2feac0ed023e",
   "metadata": {},
   "outputs": [
    {
     "data": {
      "text/plain": [
       "<tf.Tensor: shape=(3, 3), dtype=float32, numpy=\n",
       "array([[17., 22., 27.],\n",
       "       [22., 29., 36.],\n",
       "       [27., 36., 45.]], dtype=float32)>"
      ]
     },
     "execution_count": 27,
     "metadata": {},
     "output_type": "execute_result"
    }
   ],
   "source": [
    "tf.transpose(t) @ t"
   ]
  },
  {
   "cell_type": "code",
   "execution_count": 25,
   "id": "9c58edf3-f242-4f64-9939-9d6b7497763b",
   "metadata": {},
   "outputs": [
    {
     "data": {
      "text/plain": [
       "<tf.Tensor: shape=(2, 3), dtype=float32, numpy=\n",
       "array([[1., 2., 3.],\n",
       "       [4., 5., 6.]], dtype=float32)>"
      ]
     },
     "execution_count": 25,
     "metadata": {},
     "output_type": "execute_result"
    }
   ],
   "source": [
    "t"
   ]
  },
  {
   "cell_type": "code",
   "execution_count": 28,
   "id": "11758aca-e2a2-4b37-99cf-63f5fe5af3a1",
   "metadata": {},
   "outputs": [
    {
     "data": {
      "text/plain": [
       "<tf.Tensor: shape=(3, 2), dtype=float32, numpy=\n",
       "array([[1., 4.],\n",
       "       [2., 5.],\n",
       "       [3., 6.]], dtype=float32)>"
      ]
     },
     "execution_count": 28,
     "metadata": {},
     "output_type": "execute_result"
    }
   ],
   "source": [
    "tf.transpose(t)"
   ]
  },
  {
   "cell_type": "markdown",
   "id": "71c3840a-24d0-4f92-9e72-3a36cc8e73c0",
   "metadata": {},
   "source": [
    "## keras.backend 사용하기 "
   ]
  },
  {
   "cell_type": "code",
   "execution_count": 29,
   "id": "3d4d5569-bba6-4e60-96cb-432bad10d0b1",
   "metadata": {},
   "outputs": [
    {
     "data": {
      "text/plain": [
       "<tf.Tensor: shape=(3, 2), dtype=float32, numpy=\n",
       "array([[11., 26.],\n",
       "       [14., 35.],\n",
       "       [19., 46.]], dtype=float32)>"
      ]
     },
     "execution_count": 29,
     "metadata": {},
     "output_type": "execute_result"
    }
   ],
   "source": [
    "from tensorflow import keras\n",
    "K = keras.backend\n",
    "K.square(K.transpose(t)) + 10"
   ]
  },
  {
   "cell_type": "markdown",
   "id": "e1dc414f-01cf-4387-a45a-f42e88def1aa",
   "metadata": {},
   "source": [
    "## 넘파이 변환 "
   ]
  },
  {
   "cell_type": "code",
   "execution_count": 30,
   "id": "084d08e6-0880-4b0a-ac47-e7595ee0faaf",
   "metadata": {},
   "outputs": [
    {
     "data": {
      "text/plain": [
       "<tf.Tensor: shape=(3,), dtype=float64, numpy=array([2., 4., 5.])>"
      ]
     },
     "execution_count": 30,
     "metadata": {},
     "output_type": "execute_result"
    }
   ],
   "source": [
    "a = np.array([2.,4.,5.])\n",
    "tf.constant(a)"
   ]
  },
  {
   "cell_type": "code",
   "execution_count": 31,
   "id": "d5e8768f-6194-4278-a508-be9f81d05f56",
   "metadata": {},
   "outputs": [
    {
     "data": {
      "text/plain": [
       "array([[1., 2., 3.],\n",
       "       [4., 5., 6.]], dtype=float32)"
      ]
     },
     "execution_count": 31,
     "metadata": {},
     "output_type": "execute_result"
    }
   ],
   "source": [
    "t.numpy()"
   ]
  },
  {
   "cell_type": "code",
   "execution_count": 32,
   "id": "8319d6c8-1b06-4fcc-b0c0-eaaa990ad0fc",
   "metadata": {},
   "outputs": [
    {
     "data": {
      "text/plain": [
       "array([[1., 2., 3.],\n",
       "       [4., 5., 6.]], dtype=float32)"
      ]
     },
     "execution_count": 32,
     "metadata": {},
     "output_type": "execute_result"
    }
   ],
   "source": [
    "np.array(t)"
   ]
  },
  {
   "cell_type": "code",
   "execution_count": 33,
   "id": "92a33aa6-1f5a-453a-8e3b-289b29584f04",
   "metadata": {},
   "outputs": [
    {
     "data": {
      "text/plain": [
       "array([[ 1.,  4.,  9.],\n",
       "       [16., 25., 36.]], dtype=float32)"
      ]
     },
     "execution_count": 33,
     "metadata": {},
     "output_type": "execute_result"
    }
   ],
   "source": [
    "np.square(t)"
   ]
  },
  {
   "cell_type": "markdown",
   "id": "dac4762c-4031-4254-8887-1b6646aa00d4",
   "metadata": {},
   "source": [
    "## 타입 변환 "
   ]
  },
  {
   "cell_type": "code",
   "execution_count": 36,
   "id": "8ff2e08f-4a69-490f-8c2e-9c85d8e2e7b4",
   "metadata": {},
   "outputs": [
    {
     "name": "stdout",
     "output_type": "stream",
     "text": [
      "cannot compute AddV2 as input #1(zero-based) was expected to be a float tensor but is a int32 tensor [Op:AddV2]\n"
     ]
    }
   ],
   "source": [
    "try:\n",
    "    tf.constant(2.0) + tf.constant(40)\n",
    "except tf.errors.InvalidArgumentError as ex:\n",
    "    print(ex)"
   ]
  },
  {
   "cell_type": "code",
   "execution_count": 42,
   "id": "e31e2c06-4c98-4f9e-b8ad-ddb5e99c1d37",
   "metadata": {},
   "outputs": [
    {
     "name": "stdout",
     "output_type": "stream",
     "text": [
      "cannot compute AddV2 as input #1(zero-based) was expected to be a float tensor but is a double tensor [Op:AddV2]\n"
     ]
    }
   ],
   "source": [
    "try:\n",
    "    tf.constant(2.0) + tf.constant(40.,dtype=tf.float64)\n",
    "except tf.errors.InvalidArgumentError as ex:\n",
    "    print(ex)"
   ]
  },
  {
   "cell_type": "code",
   "execution_count": 43,
   "id": "2092acc9-e6d7-4a02-9d2c-8ba194bcd3da",
   "metadata": {},
   "outputs": [
    {
     "data": {
      "text/plain": [
       "<tf.Tensor: shape=(), dtype=float32, numpy=42.0>"
      ]
     },
     "execution_count": 43,
     "metadata": {},
     "output_type": "execute_result"
    }
   ],
   "source": [
    "t2 = tf.constant(40., dtype=tf.float64)\n",
    "tf.constant(2.0) + tf.cast(t2, tf.float32)\n",
    "#type 변환 함수 cast"
   ]
  },
  {
   "cell_type": "markdown",
   "id": "1bced623-c322-47f0-a006-4254fb295e2b",
   "metadata": {},
   "source": [
    "## 변수 "
   ]
  },
  {
   "cell_type": "code",
   "execution_count": 44,
   "id": "5c7f927c-bba8-42fc-ba4e-5eb3ffb5e7e1",
   "metadata": {},
   "outputs": [],
   "source": [
    "v = tf.Variable([[1.,2.,3.],[4.,5.,6.]])"
   ]
  },
  {
   "cell_type": "code",
   "execution_count": 46,
   "id": "f0c054c1-a833-41b5-9b42-ff62c7d22589",
   "metadata": {},
   "outputs": [
    {
     "data": {
      "text/plain": [
       "<tf.Variable 'UnreadVariable' shape=(2, 3) dtype=float32, numpy=\n",
       "array([[ 2.,  4.,  6.],\n",
       "       [ 8., 10., 12.]], dtype=float32)>"
      ]
     },
     "execution_count": 46,
     "metadata": {},
     "output_type": "execute_result"
    }
   ],
   "source": [
    "v.assign(2*v) #assign 함수로 바로 변경 가능"
   ]
  },
  {
   "cell_type": "markdown",
   "id": "23dd9c39-c5eb-4f63-82a9-b51844be8be2",
   "metadata": {},
   "source": [
    "## 자동 미분을 사용하여 그레디언트 계산하기"
   ]
  },
  {
   "cell_type": "markdown",
   "id": "26e1eb81-300d-4bf0-a462-e98f8f31843a",
   "metadata": {},
   "source": [
    "다음의 도함수 계산할 수 있음. (w1,w2) = (5,3)에서 도함수의 값은 (36,10)임"
   ]
  },
  {
   "cell_type": "code",
   "execution_count": 52,
   "id": "9aa069c7-73d3-4cd0-9b18-bdd2479937ff",
   "metadata": {},
   "outputs": [],
   "source": [
    "def f(w1,w2):\n",
    "    return 3*w1**2 + 2*w1*w2"
   ]
  },
  {
   "cell_type": "markdown",
   "id": "15749213-a88c-4141-b368-ef3b48ff8efc",
   "metadata": {},
   "source": [
    "직접 도함수 다 계산하는 것은 불가능하므로, 각 파라미터가 바뀔 떄마다 함수의 출력이 얼마나 변하는지 측정하여 도함수의 근삿값을 계산해보자"
   ]
  },
  {
   "cell_type": "code",
   "execution_count": 53,
   "id": "330e4136-8836-4406-8592-658674cbe48f",
   "metadata": {},
   "outputs": [
    {
     "data": {
      "text/plain": [
       "36.000003007075065"
      ]
     },
     "execution_count": 53,
     "metadata": {},
     "output_type": "execute_result"
    }
   ],
   "source": [
    "w1, w2 = 5, 3\n",
    "eps = 1e-6\n",
    "(f(w1 + eps, w2) - f(w1,w2)) / eps"
   ]
  },
  {
   "cell_type": "code",
   "execution_count": 56,
   "id": "6c73962b-1c4c-42f8-96d9-692bba0d3f6d",
   "metadata": {},
   "outputs": [
    {
     "data": {
      "text/plain": [
       "10.000000003174137"
      ]
     },
     "execution_count": 56,
     "metadata": {},
     "output_type": "execute_result"
    }
   ],
   "source": [
    "(f(w1, w2 + eps) - f(w1,w2)) / eps"
   ]
  },
  {
   "cell_type": "markdown",
   "id": "fab47498-b073-4fca-b029-7404f8956137",
   "metadata": {},
   "source": [
    "대규모 신경망에선 적용하기 힘드므로, 자동미분을 사용해보자\n",
    "tf.GradientTape 블럭을 만들어 해당 변수와 관련된 모든 연산을 자동으로 기록.\n",
    "이 tape에 두 변수에 대한 z의 그레디언트를 요청"
   ]
  },
  {
   "cell_type": "code",
   "execution_count": 57,
   "id": "b6caa646-f3fc-4e08-ac57-8c9ac402b243",
   "metadata": {},
   "outputs": [],
   "source": [
    "w1, w2 = tf.Variable(5.), tf.Variable(3.)\n",
    "with tf.GradientTape() as tape:\n",
    "    z = f(w1,w2)\n",
    "\n",
    "gradients = tape.gradient(z, [w1,w2])"
   ]
  },
  {
   "cell_type": "code",
   "execution_count": 58,
   "id": "7bbcdfbf-ae72-442d-bd24-5ddce4e295da",
   "metadata": {},
   "outputs": [
    {
     "data": {
      "text/plain": [
       "[<tf.Tensor: shape=(), dtype=float32, numpy=36.0>,\n",
       " <tf.Tensor: shape=(), dtype=float32, numpy=10.0>]"
      ]
     },
     "execution_count": 58,
     "metadata": {},
     "output_type": "execute_result"
    }
   ],
   "source": [
    "gradients"
   ]
  },
  {
   "cell_type": "code",
   "execution_count": 60,
   "id": "4485da43-494d-4bca-83c9-bd910b72f10d",
   "metadata": {},
   "outputs": [
    {
     "name": "stdout",
     "output_type": "stream",
     "text": [
      "A non-persistent GradientTape can only be used tocompute one set of gradients (or jacobians)\n"
     ]
    }
   ],
   "source": [
    "with tf.GradientTape() as tape:\n",
    "    z = f(w1,w2)\n",
    "    \n",
    "dz_dw1 = tape.gradient(z,w1)\n",
    "try:\n",
    "    dz_dw2 = tape.gradient(z,w2)\n",
    "except RuntimeError as ex:\n",
    "    print(ex)"
   ]
  },
  {
   "cell_type": "code",
   "execution_count": 66,
   "id": "165a69b7-db85-4274-9c43-f62c5bc37bfb",
   "metadata": {},
   "outputs": [],
   "source": [
    "with tf.GradientTape(persistent=True) as tape:\n",
    "    z = f(w1,w2)\n",
    "\n",
    "dz_dw1 = tape.gradient(z,[[w1,w2]])\n",
    "dz_dw2 = tape.gradient(z,w2)\n",
    "del tape #persistent=True로 지속가능하게 만들었으면, 리소스 지워야함"
   ]
  },
  {
   "cell_type": "code",
   "execution_count": 67,
   "id": "9a4ea030-0c33-4bc0-8b0e-da2b38d5647e",
   "metadata": {},
   "outputs": [
    {
     "data": {
      "text/plain": [
       "[[<tf.Tensor: shape=(), dtype=float32, numpy=36.0>,\n",
       "  <tf.Tensor: shape=(), dtype=float32, numpy=10.0>]]"
      ]
     },
     "execution_count": 67,
     "metadata": {},
     "output_type": "execute_result"
    }
   ],
   "source": [
    "dz_dw1"
   ]
  },
  {
   "cell_type": "code",
   "execution_count": 68,
   "id": "822fe1dd-1634-4999-baf2-71eb76f926da",
   "metadata": {},
   "outputs": [],
   "source": [
    "w1, w2, w3 = tf.Variable(5.), tf.Variable(3.), tf.Variable(6.)"
   ]
  },
  {
   "cell_type": "code",
   "execution_count": 69,
   "id": "484f93e9-a764-41c4-9826-3be2f4396672",
   "metadata": {},
   "outputs": [],
   "source": [
    "with tf.GradientTape() as tape:\n",
    "    z = 3*w1**2 + 2*w1*w2 + 3*w3**2\n",
    "    \n",
    "dz = tape.gradient(z, [w1,w2,w3])"
   ]
  },
  {
   "cell_type": "code",
   "execution_count": 70,
   "id": "e10b78cb-0c8d-4456-b7f5-c0bfed9434d5",
   "metadata": {},
   "outputs": [
    {
     "data": {
      "text/plain": [
       "[<tf.Tensor: shape=(), dtype=float32, numpy=36.0>,\n",
       " <tf.Tensor: shape=(), dtype=float32, numpy=10.0>,\n",
       " <tf.Tensor: shape=(), dtype=float32, numpy=36.0>]"
      ]
     },
     "execution_count": 70,
     "metadata": {},
     "output_type": "execute_result"
    }
   ],
   "source": [
    "dz"
   ]
  },
  {
   "cell_type": "code",
   "execution_count": null,
   "id": "5717c71f-f6fb-4d9b-9dd5-70e9c1e22de1",
   "metadata": {},
   "outputs": [],
   "source": []
  }
 ],
 "metadata": {
  "kernelspec": {
   "display_name": "tf24",
   "language": "python",
   "name": "tf24"
  },
  "language_info": {
   "codemirror_mode": {
    "name": "ipython",
    "version": 3
   },
   "file_extension": ".py",
   "mimetype": "text/x-python",
   "name": "python",
   "nbconvert_exporter": "python",
   "pygments_lexer": "ipython3",
   "version": "3.8.6"
  }
 },
 "nbformat": 4,
 "nbformat_minor": 5
}
